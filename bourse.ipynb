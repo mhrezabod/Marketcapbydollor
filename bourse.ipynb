{
 "cells": [
  {
   "cell_type": "code",
   "execution_count": 29,
   "metadata": {},
   "outputs": [],
   "source": [
    "import numpy as np\n",
    "import pandas as pd\n",
    "import jalali_pandas\n",
    "from datetime import datetime,date\n",
    "import seaborn as sns\n",
    "\n"
   ]
  },
  {
   "cell_type": "code",
   "execution_count": 30,
   "metadata": {},
   "outputs": [],
   "source": [
    "dollor = pd.read_excel('/home/reza/Downloads/dollor.xlsx')\n"
   ]
  },
  {
   "cell_type": "code",
   "execution_count": 31,
   "metadata": {},
   "outputs": [],
   "source": [
    "Mcap =  pd.read_excel('/home/reza/Downloads/marketcap.xlsx')"
   ]
  },
  {
   "cell_type": "code",
   "execution_count": 32,
   "metadata": {},
   "outputs": [],
   "source": [
    "dollor.rename(columns = {'تاریخ':'DATE', 'دلار':'dollorRate'}, inplace = True)"
   ]
  },
  {
   "cell_type": "code",
   "execution_count": 33,
   "metadata": {
    "tags": []
   },
   "outputs": [],
   "source": [
    "dollor['DATE'] = dollor['DATE'].str.replace('-','/')\n"
   ]
  },
  {
   "cell_type": "code",
   "execution_count": 34,
   "metadata": {},
   "outputs": [],
   "source": [
    "dollor[\"DATE\"] =dollor[\"DATE\"].jalali.parse_jalali(\"%Y/%m/%d\")"
   ]
  },
  {
   "cell_type": "code",
   "execution_count": 35,
   "metadata": {},
   "outputs": [],
   "source": [
    "dollor[\"DATE\"] = dollor[\"DATE\"].jalali.to_gregorian()"
   ]
  },
  {
   "cell_type": "code",
   "execution_count": 36,
   "metadata": {},
   "outputs": [],
   "source": [
    "# dollor['DATE'] = pd.to_datetime(dollor['DATE']).dt.date\n",
    "# dollor['DATE'] = pd.to_datetime(dollor['DATE'], format='%Y-%m-%d')\n"
   ]
  },
  {
   "cell_type": "code",
   "execution_count": 37,
   "metadata": {},
   "outputs": [],
   "source": [
    "Mcap.drop(['ClosePrice', 'last Capital'], axis=1,inplace=True)"
   ]
  },
  {
   "cell_type": "code",
   "execution_count": 38,
   "metadata": {},
   "outputs": [],
   "source": [
    "Mcap.rename(columns = {'market cap':'MarketCap'}, inplace = True)"
   ]
  },
  {
   "cell_type": "code",
   "execution_count": 39,
   "metadata": {},
   "outputs": [],
   "source": [
    "Mcap.drop(Mcap.index[Mcap['MarketCap'] == '#VALUE!'], inplace=True)\n"
   ]
  },
  {
   "cell_type": "code",
   "execution_count": 40,
   "metadata": {},
   "outputs": [],
   "source": [
    "Mcap.MarketCap = pd.to_numeric(Mcap.MarketCap)"
   ]
  },
  {
   "cell_type": "code",
   "execution_count": 41,
   "metadata": {},
   "outputs": [],
   "source": [
    "Mcap['DateTimeEn'] = pd.to_datetime(Mcap['DateTimeEn']).dt.date"
   ]
  },
  {
   "cell_type": "code",
   "execution_count": 42,
   "metadata": {},
   "outputs": [],
   "source": [
    "Mcap['DateTimeEn'] = pd.to_datetime(Mcap['DateTimeEn'], format='%Y-%m-%d')\n",
    "Mcap = Mcap.query(\" DateTimeEn >= '2009-03-01'\" )\n"
   ]
  },
  {
   "cell_type": "code",
   "execution_count": null,
   "metadata": {},
   "outputs": [],
   "source": []
  },
  {
   "cell_type": "code",
   "execution_count": 43,
   "metadata": {},
   "outputs": [
    {
     "data": {
      "text/html": [
       "<div>\n",
       "<style scoped>\n",
       "    .dataframe tbody tr th:only-of-type {\n",
       "        vertical-align: middle;\n",
       "    }\n",
       "\n",
       "    .dataframe tbody tr th {\n",
       "        vertical-align: top;\n",
       "    }\n",
       "\n",
       "    .dataframe thead th {\n",
       "        text-align: right;\n",
       "    }\n",
       "</style>\n",
       "<table border=\"1\" class=\"dataframe\">\n",
       "  <thead>\n",
       "    <tr style=\"text-align: right;\">\n",
       "      <th></th>\n",
       "      <th>DATE</th>\n",
       "      <th>dollorRate</th>\n",
       "    </tr>\n",
       "  </thead>\n",
       "  <tbody>\n",
       "    <tr>\n",
       "      <th>0</th>\n",
       "      <td>2009-03</td>\n",
       "      <td>9917.272727</td>\n",
       "    </tr>\n",
       "    <tr>\n",
       "      <th>1</th>\n",
       "      <td>2009-04</td>\n",
       "      <td>10028.333333</td>\n",
       "    </tr>\n",
       "    <tr>\n",
       "      <th>2</th>\n",
       "      <td>2009-05</td>\n",
       "      <td>9844.838710</td>\n",
       "    </tr>\n",
       "    <tr>\n",
       "      <th>3</th>\n",
       "      <td>2009-06</td>\n",
       "      <td>9871.333333</td>\n",
       "    </tr>\n",
       "    <tr>\n",
       "      <th>4</th>\n",
       "      <td>2009-07</td>\n",
       "      <td>10015.161290</td>\n",
       "    </tr>\n",
       "    <tr>\n",
       "      <th>...</th>\n",
       "      <td>...</td>\n",
       "      <td>...</td>\n",
       "    </tr>\n",
       "    <tr>\n",
       "      <th>166</th>\n",
       "      <td>2023-01</td>\n",
       "      <td>423048.148148</td>\n",
       "    </tr>\n",
       "    <tr>\n",
       "      <th>167</th>\n",
       "      <td>2023-02</td>\n",
       "      <td>485533.333333</td>\n",
       "    </tr>\n",
       "    <tr>\n",
       "      <th>168</th>\n",
       "      <td>2023-03</td>\n",
       "      <td>497931.818182</td>\n",
       "    </tr>\n",
       "    <tr>\n",
       "      <th>169</th>\n",
       "      <td>2023-04</td>\n",
       "      <td>518107.692308</td>\n",
       "    </tr>\n",
       "    <tr>\n",
       "      <th>170</th>\n",
       "      <td>2023-05</td>\n",
       "      <td>540583.333333</td>\n",
       "    </tr>\n",
       "  </tbody>\n",
       "</table>\n",
       "<p>171 rows × 2 columns</p>\n",
       "</div>"
      ],
      "text/plain": [
       "        DATE     dollorRate\n",
       "0    2009-03    9917.272727\n",
       "1    2009-04   10028.333333\n",
       "2    2009-05    9844.838710\n",
       "3    2009-06    9871.333333\n",
       "4    2009-07   10015.161290\n",
       "..       ...            ...\n",
       "166  2023-01  423048.148148\n",
       "167  2023-02  485533.333333\n",
       "168  2023-03  497931.818182\n",
       "169  2023-04  518107.692308\n",
       "170  2023-05  540583.333333\n",
       "\n",
       "[171 rows x 2 columns]"
      ]
     },
     "execution_count": 43,
     "metadata": {},
     "output_type": "execute_result"
    }
   ],
   "source": [
    "mean_dollor = dollor.groupby(pd.PeriodIndex(dollor['DATE'], freq=\"M\"))['dollorRate'].mean().reset_index()\n",
    "\n",
    "mean_dollor"
   ]
  },
  {
   "cell_type": "code",
   "execution_count": 44,
   "metadata": {},
   "outputs": [
    {
     "data": {
      "text/html": [
       "<div>\n",
       "<style scoped>\n",
       "    .dataframe tbody tr th:only-of-type {\n",
       "        vertical-align: middle;\n",
       "    }\n",
       "\n",
       "    .dataframe tbody tr th {\n",
       "        vertical-align: top;\n",
       "    }\n",
       "\n",
       "    .dataframe thead th {\n",
       "        text-align: right;\n",
       "    }\n",
       "</style>\n",
       "<table border=\"1\" class=\"dataframe\">\n",
       "  <thead>\n",
       "    <tr style=\"text-align: right;\">\n",
       "      <th></th>\n",
       "      <th>Name</th>\n",
       "      <th>ShortName</th>\n",
       "      <th>DateTimeEn</th>\n",
       "      <th>MarketCap</th>\n",
       "    </tr>\n",
       "  </thead>\n",
       "  <tbody>\n",
       "    <tr>\n",
       "      <th>90</th>\n",
       "      <td>کف‌</td>\n",
       "      <td>شکف</td>\n",
       "      <td>2009-03-31</td>\n",
       "      <td>312500000000</td>\n",
       "    </tr>\n",
       "    <tr>\n",
       "      <th>91</th>\n",
       "      <td>کف‌</td>\n",
       "      <td>شکف</td>\n",
       "      <td>2009-04-29</td>\n",
       "      <td>316000000000</td>\n",
       "    </tr>\n",
       "    <tr>\n",
       "      <th>92</th>\n",
       "      <td>کف‌</td>\n",
       "      <td>شکف</td>\n",
       "      <td>2009-05-30</td>\n",
       "      <td>294750000000</td>\n",
       "    </tr>\n",
       "    <tr>\n",
       "      <th>93</th>\n",
       "      <td>کف‌</td>\n",
       "      <td>شکف</td>\n",
       "      <td>2009-06-30</td>\n",
       "      <td>320250000000</td>\n",
       "    </tr>\n",
       "    <tr>\n",
       "      <th>94</th>\n",
       "      <td>کف‌</td>\n",
       "      <td>شکف</td>\n",
       "      <td>2009-07-26</td>\n",
       "      <td>276750000000</td>\n",
       "    </tr>\n",
       "    <tr>\n",
       "      <th>...</th>\n",
       "      <td>...</td>\n",
       "      <td>...</td>\n",
       "      <td>...</td>\n",
       "      <td>...</td>\n",
       "    </tr>\n",
       "    <tr>\n",
       "      <th>120247</th>\n",
       "      <td>نوش پونه مشهد</td>\n",
       "      <td>غپونه</td>\n",
       "      <td>2022-09-21</td>\n",
       "      <td>8321685680000</td>\n",
       "    </tr>\n",
       "    <tr>\n",
       "      <th>120248</th>\n",
       "      <td>مجتمع صنعتی آرتاویل تایر</td>\n",
       "      <td>پارتا</td>\n",
       "      <td>2022-06-29</td>\n",
       "      <td>37214110510000</td>\n",
       "    </tr>\n",
       "    <tr>\n",
       "      <th>120249</th>\n",
       "      <td>مجتمع صنعتی آرتاویل تایر</td>\n",
       "      <td>پارتا</td>\n",
       "      <td>2022-07-31</td>\n",
       "      <td>33775338273000</td>\n",
       "    </tr>\n",
       "    <tr>\n",
       "      <th>120250</th>\n",
       "      <td>مجتمع صنعتی آرتاویل تایر</td>\n",
       "      <td>پارتا</td>\n",
       "      <td>2022-08-31</td>\n",
       "      <td>31043163071000</td>\n",
       "    </tr>\n",
       "    <tr>\n",
       "      <th>120251</th>\n",
       "      <td>مجتمع صنعتی آرتاویل تایر</td>\n",
       "      <td>پارتا</td>\n",
       "      <td>2022-09-21</td>\n",
       "      <td>35518277626000</td>\n",
       "    </tr>\n",
       "  </tbody>\n",
       "</table>\n",
       "<p>77543 rows × 4 columns</p>\n",
       "</div>"
      ],
      "text/plain": [
       "                            Name ShortName DateTimeEn       MarketCap\n",
       "90                           کف‌       شکف 2009-03-31    312500000000\n",
       "91                           کف‌       شکف 2009-04-29    316000000000\n",
       "92                           کف‌       شکف 2009-05-30    294750000000\n",
       "93                           کف‌       شکف 2009-06-30    320250000000\n",
       "94                           کف‌       شکف 2009-07-26    276750000000\n",
       "...                          ...       ...        ...             ...\n",
       "120247             نوش پونه مشهد     غپونه 2022-09-21   8321685680000\n",
       "120248  مجتمع صنعتی آرتاویل تایر     پارتا 2022-06-29  37214110510000\n",
       "120249  مجتمع صنعتی آرتاویل تایر     پارتا 2022-07-31  33775338273000\n",
       "120250  مجتمع صنعتی آرتاویل تایر     پارتا 2022-08-31  31043163071000\n",
       "120251  مجتمع صنعتی آرتاویل تایر     پارتا 2022-09-21  35518277626000\n",
       "\n",
       "[77543 rows x 4 columns]"
      ]
     },
     "execution_count": 44,
     "metadata": {},
     "output_type": "execute_result"
    }
   ],
   "source": [
    "Mcap"
   ]
  },
  {
   "cell_type": "code",
   "execution_count": 45,
   "metadata": {},
   "outputs": [],
   "source": [
    "# Mcap.to_excel(\"Mcapnew.xlsx\")  "
   ]
  },
  {
   "cell_type": "code",
   "execution_count": 46,
   "metadata": {},
   "outputs": [
    {
     "name": "stdout",
     "output_type": "stream",
     "text": [
      "<class 'pandas.core.frame.DataFrame'>\n",
      "RangeIndex: 171 entries, 0 to 170\n",
      "Data columns (total 2 columns):\n",
      " #   Column      Non-Null Count  Dtype    \n",
      "---  ------      --------------  -----    \n",
      " 0   DATE        171 non-null    period[M]\n",
      " 1   dollorRate  171 non-null    float64  \n",
      "dtypes: float64(1), period[M](1)\n",
      "memory usage: 2.8 KB\n"
     ]
    }
   ],
   "source": [
    "mean_dollor.info()"
   ]
  },
  {
   "cell_type": "code",
   "execution_count": 47,
   "metadata": {},
   "outputs": [
    {
     "name": "stdout",
     "output_type": "stream",
     "text": [
      "<class 'pandas.core.frame.DataFrame'>\n",
      "Index: 77543 entries, 90 to 120251\n",
      "Data columns (total 4 columns):\n",
      " #   Column      Non-Null Count  Dtype         \n",
      "---  ------      --------------  -----         \n",
      " 0   Name        77543 non-null  object        \n",
      " 1   ShortName   77543 non-null  object        \n",
      " 2   DateTimeEn  77543 non-null  datetime64[ns]\n",
      " 3   MarketCap   77543 non-null  int64         \n",
      "dtypes: datetime64[ns](1), int64(1), object(2)\n",
      "memory usage: 3.0+ MB\n"
     ]
    }
   ],
   "source": [
    "Mcap.info()"
   ]
  },
  {
   "cell_type": "code",
   "execution_count": 48,
   "metadata": {},
   "outputs": [
    {
     "data": {
      "text/html": [
       "<div>\n",
       "<style scoped>\n",
       "    .dataframe tbody tr th:only-of-type {\n",
       "        vertical-align: middle;\n",
       "    }\n",
       "\n",
       "    .dataframe tbody tr th {\n",
       "        vertical-align: top;\n",
       "    }\n",
       "\n",
       "    .dataframe thead th {\n",
       "        text-align: right;\n",
       "    }\n",
       "</style>\n",
       "<table border=\"1\" class=\"dataframe\">\n",
       "  <thead>\n",
       "    <tr style=\"text-align: right;\">\n",
       "      <th></th>\n",
       "      <th>Name</th>\n",
       "      <th>ShortName</th>\n",
       "      <th>DateTimeEn</th>\n",
       "      <th>MarketCap</th>\n",
       "    </tr>\n",
       "  </thead>\n",
       "  <tbody>\n",
       "    <tr>\n",
       "      <th>75476</th>\n",
       "      <td>کالسیمین‌</td>\n",
       "      <td>فاسمین</td>\n",
       "      <td>2009-03-31</td>\n",
       "      <td>448695000000</td>\n",
       "    </tr>\n",
       "    <tr>\n",
       "      <th>75477</th>\n",
       "      <td>کالسیمین‌</td>\n",
       "      <td>فاسمین</td>\n",
       "      <td>2009-04-28</td>\n",
       "      <td>538200000000</td>\n",
       "    </tr>\n",
       "    <tr>\n",
       "      <th>75478</th>\n",
       "      <td>کالسیمین‌</td>\n",
       "      <td>فاسمین</td>\n",
       "      <td>2009-05-31</td>\n",
       "      <td>746460000000</td>\n",
       "    </tr>\n",
       "    <tr>\n",
       "      <th>75479</th>\n",
       "      <td>کالسیمین‌</td>\n",
       "      <td>فاسمین</td>\n",
       "      <td>2009-06-30</td>\n",
       "      <td>834015000000</td>\n",
       "    </tr>\n",
       "    <tr>\n",
       "      <th>75480</th>\n",
       "      <td>کالسیمین‌</td>\n",
       "      <td>فاسمین</td>\n",
       "      <td>2009-07-22</td>\n",
       "      <td>904410000000</td>\n",
       "    </tr>\n",
       "    <tr>\n",
       "      <th>...</th>\n",
       "      <td>...</td>\n",
       "      <td>...</td>\n",
       "      <td>...</td>\n",
       "      <td>...</td>\n",
       "    </tr>\n",
       "    <tr>\n",
       "      <th>75634</th>\n",
       "      <td>کالسیمین‌</td>\n",
       "      <td>فاسمین</td>\n",
       "      <td>2022-05-31</td>\n",
       "      <td>127260000000000</td>\n",
       "    </tr>\n",
       "    <tr>\n",
       "      <th>75635</th>\n",
       "      <td>کالسیمین‌</td>\n",
       "      <td>فاسمین</td>\n",
       "      <td>2022-06-29</td>\n",
       "      <td>126600000000000</td>\n",
       "    </tr>\n",
       "    <tr>\n",
       "      <th>75636</th>\n",
       "      <td>کالسیمین‌</td>\n",
       "      <td>فاسمین</td>\n",
       "      <td>2022-07-31</td>\n",
       "      <td>106620000000000</td>\n",
       "    </tr>\n",
       "    <tr>\n",
       "      <th>75637</th>\n",
       "      <td>کالسیمین‌</td>\n",
       "      <td>فاسمین</td>\n",
       "      <td>2022-08-31</td>\n",
       "      <td>110460000000000</td>\n",
       "    </tr>\n",
       "    <tr>\n",
       "      <th>75638</th>\n",
       "      <td>کالسیمین‌</td>\n",
       "      <td>فاسمین</td>\n",
       "      <td>2022-09-21</td>\n",
       "      <td>102120000000000</td>\n",
       "    </tr>\n",
       "  </tbody>\n",
       "</table>\n",
       "<p>163 rows × 4 columns</p>\n",
       "</div>"
      ],
      "text/plain": [
       "            Name ShortName DateTimeEn        MarketCap\n",
       "75476  کالسیمین‌    فاسمین 2009-03-31     448695000000\n",
       "75477  کالسیمین‌    فاسمین 2009-04-28     538200000000\n",
       "75478  کالسیمین‌    فاسمین 2009-05-31     746460000000\n",
       "75479  کالسیمین‌    فاسمین 2009-06-30     834015000000\n",
       "75480  کالسیمین‌    فاسمین 2009-07-22     904410000000\n",
       "...          ...       ...        ...              ...\n",
       "75634  کالسیمین‌    فاسمین 2022-05-31  127260000000000\n",
       "75635  کالسیمین‌    فاسمین 2022-06-29  126600000000000\n",
       "75636  کالسیمین‌    فاسمین 2022-07-31  106620000000000\n",
       "75637  کالسیمین‌    فاسمین 2022-08-31  110460000000000\n",
       "75638  کالسیمین‌    فاسمین 2022-09-21  102120000000000\n",
       "\n",
       "[163 rows x 4 columns]"
      ]
     },
     "execution_count": 48,
     "metadata": {},
     "output_type": "execute_result"
    }
   ],
   "source": [
    "saham = Mcap[Mcap['ShortName'] == \"فاسمین\"]\n",
    "saham"
   ]
  },
  {
   "cell_type": "code",
   "execution_count": 49,
   "metadata": {},
   "outputs": [],
   "source": [
    "dollorratedict = dict()\n",
    "\n",
    "for index, row in mean_dollor.iterrows():\n",
    "    dollorratedict[row[\"DATE\"].strftime(\"%b %Y\")] = int(row[\"dollorRate\"])\n"
   ]
  },
  {
   "cell_type": "code",
   "execution_count": 50,
   "metadata": {},
   "outputs": [],
   "source": [
    "Marketcapdict = dict()\n",
    "\n",
    "for index, row in saham.iterrows():\n",
    "    Marketcapdict[row[\"DateTimeEn\"].strftime(\"%b %Y\")] = int(row[\"MarketCap\"])\n"
   ]
  },
  {
   "cell_type": "code",
   "execution_count": 51,
   "metadata": {},
   "outputs": [],
   "source": [
    "marketcappric_bydollor = []\n",
    "\n",
    "for x, y in Marketcapdict.items():\n",
    "    \n",
    "    if x in dollorratedict.keys():\n",
    "        marketcappric_bydollor.append([int(y/dollorratedict.get(x)),x])\n",
    "        "
   ]
  },
  {
   "cell_type": "code",
   "execution_count": 52,
   "metadata": {},
   "outputs": [
    {
     "data": {
      "text/plain": [
       "[[45245033, 'Mar 2009'],\n",
       " [53669724, 'Apr 2009'],\n",
       " [75828931, 'May 2009'],\n",
       " [84491439, 'Jun 2009'],\n",
       " [90305541, 'Jul 2009'],\n",
       " [133003300, 'Aug 2009'],\n",
       " [133694668, 'Sep 2009'],\n",
       " [140159927, 'Oct 2009'],\n",
       " [136214099, 'Nov 2009'],\n",
       " [140651913, 'Dec 2009'],\n",
       " [161401372, 'Jan 2010'],\n",
       " [216600118, 'Feb 2010'],\n",
       " [247265438, 'Mar 2010'],\n",
       " [277814050, 'Apr 2010'],\n",
       " [270713871, 'May 2010'],\n",
       " [282416484, 'Jun 2010'],\n",
       " [306920168, 'Jul 2010'],\n",
       " [300133484, 'Aug 2010'],\n",
       " [332336996, 'Sep 2010'],\n",
       " [356326148, 'Oct 2010'],\n",
       " [327078189, 'Nov 2010'],\n",
       " [320363925, 'Dec 2010'],\n",
       " [348261013, 'Jan 2011'],\n",
       " [413070622, 'Feb 2011'],\n",
       " [483961538, 'Mar 2011'],\n",
       " [442693518, 'Apr 2011'],\n",
       " [385906444, 'May 2011'],\n",
       " [389393901, 'Jun 2011'],\n",
       " [449686867, 'Jul 2011'],\n",
       " [430528633, 'Aug 2011'],\n",
       " [381694386, 'Sep 2011'],\n",
       " [373102790, 'Oct 2011'],\n",
       " [333830886, 'Nov 2011'],\n",
       " [432927230, 'Dec 2011'],\n",
       " [364766383, 'Jan 2012'],\n",
       " [335612980, 'Feb 2012'],\n",
       " [367370223, 'Mar 2012'],\n",
       " [364947019, 'Apr 2012'],\n",
       " [305375069, 'May 2012'],\n",
       " [233181389, 'Jun 2012'],\n",
       " [209142489, 'Jul 2012'],\n",
       " [181797540, 'Aug 2012'],\n",
       " [242020787, 'Sep 2012'],\n",
       " [181793616, 'Oct 2012'],\n",
       " [206589653, 'Nov 2012'],\n",
       " [255760954, 'Dec 2012'],\n",
       " [201099434, 'Jan 2013'],\n",
       " [161658946, 'Feb 2013'],\n",
       " [180122818, 'Mar 2013'],\n",
       " [161652103, 'Apr 2013'],\n",
       " [138801161, 'May 2013'],\n",
       " [174765658, 'Jun 2013'],\n",
       " [203159475, 'Jul 2013'],\n",
       " [200815460, 'Aug 2013'],\n",
       " [251012889, 'Sep 2013'],\n",
       " [270812994, 'Oct 2013'],\n",
       " [272072278, 'Nov 2013'],\n",
       " [344944563, 'Dec 2013'],\n",
       " [313184512, 'Jan 2014'],\n",
       " [264082776, 'Feb 2014'],\n",
       " [302065829, 'Mar 2014'],\n",
       " [293812804, 'Apr 2014'],\n",
       " [244442411, 'May 2014'],\n",
       " [198724529, 'Jun 2014'],\n",
       " [278012279, 'Jul 2014'],\n",
       " [242280741, 'Aug 2014'],\n",
       " [248755595, 'Sep 2014'],\n",
       " [235083495, 'Oct 2014'],\n",
       " [239361702, 'Nov 2014'],\n",
       " [214627674, 'Dec 2014'],\n",
       " [183042264, 'Jan 2015'],\n",
       " [158542992, 'Feb 2015'],\n",
       " [184321269, 'Mar 2015'],\n",
       " [163785039, 'Apr 2015'],\n",
       " [127872127, 'May 2015'],\n",
       " [123364032, 'Jun 2015'],\n",
       " [129089517, 'Jul 2015'],\n",
       " [111383621, 'Aug 2015'],\n",
       " [100985657, 'Sep 2015'],\n",
       " [112877067, 'Oct 2015'],\n",
       " [98931696, 'Nov 2015'],\n",
       " [90941424, 'Dec 2015'],\n",
       " [103523627, 'Jan 2016'],\n",
       " [112434275, 'Feb 2016'],\n",
       " [117027738, 'Mar 2016'],\n",
       " [135847970, 'Apr 2016'],\n",
       " [119632878, 'May 2016'],\n",
       " [128087041, 'Jun 2016'],\n",
       " [138401003, 'Jul 2016'],\n",
       " [139467886, 'Aug 2016'],\n",
       " [148478975, 'Sep 2016'],\n",
       " [194061387, 'Oct 2016'],\n",
       " [235590057, 'Nov 2016'],\n",
       " [182020145, 'Dec 2016'],\n",
       " [203209654, 'Jan 2017'],\n",
       " [188523729, 'Feb 2017'],\n",
       " [190924817, 'Mar 2017'],\n",
       " [172459679, 'Apr 2017'],\n",
       " [171904964, 'May 2017'],\n",
       " [180671370, 'Jun 2017'],\n",
       " [197273879, 'Jul 2017'],\n",
       " [207813234, 'Aug 2017'],\n",
       " [197537830, 'Sep 2017'],\n",
       " [202926780, 'Oct 2017'],\n",
       " [220074204, 'Nov 2017'],\n",
       " [245741106, 'Dec 2017'],\n",
       " [320452403, 'Jan 2018'],\n",
       " [292561912, 'Feb 2018'],\n",
       " [267434921, 'Mar 2018'],\n",
       " [193384878, 'Apr 2018'],\n",
       " [160518350, 'May 2018'],\n",
       " [169724707, 'Jun 2018'],\n",
       " [154986257, 'Jul 2018'],\n",
       " [142070286, 'Aug 2018'],\n",
       " [147840826, 'Sep 2018'],\n",
       " [122809642, 'Oct 2018'],\n",
       " [108301826, 'Nov 2018'],\n",
       " [143310034, 'Dec 2018'],\n",
       " [137849491, 'Jan 2019'],\n",
       " [140925162, 'Feb 2019'],\n",
       " [156221868, 'Mar 2019'],\n",
       " [149779347, 'Apr 2019'],\n",
       " [148106369, 'May 2019'],\n",
       " [211643290, 'Jun 2019'],\n",
       " [209558374, 'Jul 2019'],\n",
       " [210004808, 'Aug 2019'],\n",
       " [253487333, 'Sep 2019'],\n",
       " [247102543, 'Oct 2019'],\n",
       " [210751071, 'Nov 2019'],\n",
       " [221563300, 'Dec 2019'],\n",
       " [277640279, 'Jan 2020'],\n",
       " [300139695, 'Feb 2020'],\n",
       " [279391314, 'Mar 2020'],\n",
       " [500161409, 'Apr 2020'],\n",
       " [464348631, 'May 2020'],\n",
       " [809728294, 'Jun 2020'],\n",
       " [584984587, 'Jul 2020'],\n",
       " [662710321, 'Aug 2020'],\n",
       " [374261093, 'Sep 2020'],\n",
       " [300555597, 'Oct 2020'],\n",
       " [378726459, 'Nov 2020'],\n",
       " [463697993, 'Dec 2020'],\n",
       " [399978280, 'Jan 2021'],\n",
       " [408024898, 'Feb 2021'],\n",
       " [440385009, 'Mar 2021'],\n",
       " [373425784, 'Apr 2021'],\n",
       " [387881414, 'May 2021'],\n",
       " [413544130, 'Jun 2021'],\n",
       " [398910605, 'Jul 2021'],\n",
       " [387889405, 'Aug 2021'],\n",
       " [371731001, 'Sep 2021'],\n",
       " [356932860, 'Oct 2021'],\n",
       " [335567152, 'Nov 2021'],\n",
       " [340142820, 'Dec 2021'],\n",
       " [348285858, 'Jan 2022'],\n",
       " [382875278, 'Feb 2022'],\n",
       " [468557242, 'Mar 2022'],\n",
       " [473357419, 'Apr 2022'],\n",
       " [426188881, 'May 2022'],\n",
       " [397483234, 'Jun 2022'],\n",
       " [334756671, 'Jul 2022'],\n",
       " [364983280, 'Aug 2022'],\n",
       " [327786765, 'Sep 2022']]"
      ]
     },
     "execution_count": 52,
     "metadata": {},
     "output_type": "execute_result"
    }
   ],
   "source": [
    "marketcappric_bydollor"
   ]
  },
  {
   "cell_type": "code",
   "execution_count": 53,
   "metadata": {},
   "outputs": [
    {
     "name": "stderr",
     "output_type": "stream",
     "text": [
      "/tmp/ipykernel_15429/3702171796.py:2: UserWarning: Could not infer format, so each element will be parsed individually, falling back to `dateutil`. To ensure parsing is consistent and as-expected, please specify a format.\n",
      "  Final[\"DATE\"] = Final[\"DATE\"].astype(\"datetime64[ns]\")\n"
     ]
    },
    {
     "data": {
      "text/html": [
       "<div>\n",
       "<style scoped>\n",
       "    .dataframe tbody tr th:only-of-type {\n",
       "        vertical-align: middle;\n",
       "    }\n",
       "\n",
       "    .dataframe tbody tr th {\n",
       "        vertical-align: top;\n",
       "    }\n",
       "\n",
       "    .dataframe thead th {\n",
       "        text-align: right;\n",
       "    }\n",
       "</style>\n",
       "<table border=\"1\" class=\"dataframe\">\n",
       "  <thead>\n",
       "    <tr style=\"text-align: right;\">\n",
       "      <th></th>\n",
       "      <th>marketcappric_bydollor</th>\n",
       "      <th>DATE</th>\n",
       "    </tr>\n",
       "  </thead>\n",
       "  <tbody>\n",
       "    <tr>\n",
       "      <th>0</th>\n",
       "      <td>45245033</td>\n",
       "      <td>2009-03-01</td>\n",
       "    </tr>\n",
       "    <tr>\n",
       "      <th>1</th>\n",
       "      <td>53669724</td>\n",
       "      <td>2009-04-01</td>\n",
       "    </tr>\n",
       "    <tr>\n",
       "      <th>2</th>\n",
       "      <td>75828931</td>\n",
       "      <td>2009-05-01</td>\n",
       "    </tr>\n",
       "    <tr>\n",
       "      <th>3</th>\n",
       "      <td>84491439</td>\n",
       "      <td>2009-06-01</td>\n",
       "    </tr>\n",
       "    <tr>\n",
       "      <th>4</th>\n",
       "      <td>90305541</td>\n",
       "      <td>2009-07-01</td>\n",
       "    </tr>\n",
       "    <tr>\n",
       "      <th>...</th>\n",
       "      <td>...</td>\n",
       "      <td>...</td>\n",
       "    </tr>\n",
       "    <tr>\n",
       "      <th>158</th>\n",
       "      <td>426188881</td>\n",
       "      <td>2022-05-01</td>\n",
       "    </tr>\n",
       "    <tr>\n",
       "      <th>159</th>\n",
       "      <td>397483234</td>\n",
       "      <td>2022-06-01</td>\n",
       "    </tr>\n",
       "    <tr>\n",
       "      <th>160</th>\n",
       "      <td>334756671</td>\n",
       "      <td>2022-07-01</td>\n",
       "    </tr>\n",
       "    <tr>\n",
       "      <th>161</th>\n",
       "      <td>364983280</td>\n",
       "      <td>2022-08-01</td>\n",
       "    </tr>\n",
       "    <tr>\n",
       "      <th>162</th>\n",
       "      <td>327786765</td>\n",
       "      <td>2022-09-01</td>\n",
       "    </tr>\n",
       "  </tbody>\n",
       "</table>\n",
       "<p>163 rows × 2 columns</p>\n",
       "</div>"
      ],
      "text/plain": [
       "     marketcappric_bydollor       DATE\n",
       "0                  45245033 2009-03-01\n",
       "1                  53669724 2009-04-01\n",
       "2                  75828931 2009-05-01\n",
       "3                  84491439 2009-06-01\n",
       "4                  90305541 2009-07-01\n",
       "..                      ...        ...\n",
       "158               426188881 2022-05-01\n",
       "159               397483234 2022-06-01\n",
       "160               334756671 2022-07-01\n",
       "161               364983280 2022-08-01\n",
       "162               327786765 2022-09-01\n",
       "\n",
       "[163 rows x 2 columns]"
      ]
     },
     "execution_count": 53,
     "metadata": {},
     "output_type": "execute_result"
    }
   ],
   "source": [
    "Final = pd.DataFrame(marketcappric_bydollor, columns =['marketcappric_bydollor', 'DATE'])\n",
    "Final[\"DATE\"] = Final[\"DATE\"].astype(\"datetime64[ns]\")\n",
    "\n",
    "\n",
    "Final"
   ]
  },
  {
   "cell_type": "code",
   "execution_count": 54,
   "metadata": {},
   "outputs": [
    {
     "data": {
      "text/plain": [
       "[<matplotlib.lines.Line2D at 0x7f064bafb1d0>]"
      ]
     },
     "execution_count": 54,
     "metadata": {},
     "output_type": "execute_result"
    },
    {
     "data": {
      "image/png": "[encoded data removed]",
      "text/plain": [
       "<Figure size 640x480 with 1 Axes>"
      ]
     },
     "metadata": {},
     "output_type": "display_data"
    }
   ],
   "source": [
    "import matplotlib.pyplot as plt\n",
    "plt.plot( Final.DATE,Final.marketcappric_bydollor)"
   ]
  },
  {
   "cell_type": "code",
   "execution_count": 55,
   "metadata": {},
   "outputs": [
    {
     "data": {
      "image/png": "[encoded data removed]",
      "text/plain": [
       "<Figure size 1200x800 with 1 Axes>"
      ]
     },
     "metadata": {},
     "output_type": "display_data"
    }
   ],
   "source": [
    "fig = plt.figure(figsize=(12, 8))\n",
    "plt.plot(Final.DATE, Final.marketcappric_bydollor, label='فاسمین', \n",
    "         linewidth=3)\n",
    "\n",
    "# Add title and labels\n",
    "\n",
    "plt.title('Marketcap by dollor')\n",
    "plt.xlabel('Time')\n",
    "plt.ylabel('Market cap')\n",
    "\n",
    "# Add legend\n",
    "\n",
    "plt.legend()\n",
    "\n",
    "# Auto space\n",
    "\n",
    "plt.tight_layout()\n",
    "\n",
    "# Display plot\n"
   ]
  },
  {
   "cell_type": "code",
   "execution_count": null,
   "metadata": {},
   "outputs": [],
   "source": []
  }
 ],
 "metadata": {
  "kernelspec": {
   "display_name": "Python 3 (ipykernel)",
   "language": "python",
   "name": "python3"
  },
  "language_info": {
   "codemirror_mode": {
    "name": "ipython",
    "version": 3
   },
   "file_extension": ".py",
   "mimetype": "text/x-python",
   "name": "python",
   "nbconvert_exporter": "python",
   "pygments_lexer": "ipython3",
   "version": "3.11.3"
  }
 },
 "nbformat": 4,
 "nbformat_minor": 4
}
